{
 "cells": [
  {
   "cell_type": "markdown",
   "metadata": {},
   "source": [
    "# Lesson 1:\n",
    "a sawyer brand tragedy in 4 parts"
   ]
  },
  {
   "cell_type": "markdown",
   "metadata": {},
   "source": [
    "Python is a very simple and straightforward language with very little if any boilerplate - meaning premade - code. The best way to do python - even for intermediates - is jupyter notebook. This is because you can have \"markdown cells\" that allow you to make notes to explain your work instead of just comments. But before we even open up Jupyter notebook, let's talk about command lines. A command line is an interface which allows you to communicate directly with your operating system. It's the bees knees. Through simple commands (like just typing jupyter notebook - it will open jupyter notebook) you can do so many things once you get good at it. Below are a few easy and simple starting commands:"
   ]
  },
  {
   "cell_type": "markdown",
   "metadata": {},
   "source": [
    "- - - - - - - - - - - - - - - - - - - - - - - - - - - - - - - -"
   ]
  },
  {
   "cell_type": "markdown",
   "metadata": {},
   "source": [
    "cd = open the folder that comes after\n",
    "\n",
    "    example: cd Documents\n",
    "    \n",
    "cat = lists the contents of files to the terminal window. \n",
    "\n",
    "    example: cat Documents \n",
    "    \n"
   ]
  },
  {
   "cell_type": "markdown",
   "metadata": {},
   "source": [
    "Anyway, from your terminal thingy you can get to the jupyter notebooks by typing \" cd Downloads/Fake_Lessons\" and then after you hit enter type in \"jupyter notebook\" and hit enter. These commands will get you into the Fake Lessons folder and then open up jupyter notebook. "
   ]
  },
  {
   "cell_type": "markdown",
   "metadata": {},
   "source": [
    "The **path** of a file is the unique location of the file. If you save an image in a folder called Images under the Documents folder in your computer, the path will be *user*/Documents/Images/image_ex.png"
   ]
  },
  {
   "cell_type": "markdown",
   "metadata": {},
   "source": [
    "### Let's talk variables! "
   ]
  },
  {
   "cell_type": "markdown",
   "metadata": {},
   "source": [
    "A variable stores numbers and there are different types of variables:\n",
    "\n",
    "- integer (a number without a decimal),\n",
    "- floating point (a number with a decimal),\n",
    "- string (numbers and/or letters enclosed in quotation marks),\n",
    "- complex numbers, \n",
    "- booleans (True or False, 1 or 0).  \n",
    "\n"
   ]
  },
  {
   "cell_type": "code",
   "execution_count": 1,
   "metadata": {},
   "outputs": [],
   "source": [
    "# Remember that Python ignores everything on a line after  a pound sign (#)\n",
    "# this is how you write \"comments\"\n",
    "number=1 # an integer\n",
    "Number=1.0 # a floating point - notice the decimal point\n",
    "NUMBER='1' # a string - notice the quotation marks\n",
    "ANOTHERNUMBER=\"1\" # double quotes are also ok\n",
    "comp=1j # a complex number with imaginary part 1 \n",
    "#(don't ask why \"j\" and not \"i\") \n",
    "morecomplex=3+1j # the complex number 3+1i \n",
    "bools=True # A boolean variable (True/False or 1/0)"
   ]
  },
  {
   "cell_type": "markdown",
   "metadata": {},
   "source": [
    "Above is a block of code outlining a crucial step in coding - you have to define a variable before you use it (there are ways around this but most of the time you use variables it's to store info easily so you'd define it first). "
   ]
  },
  {
   "cell_type": "markdown",
   "metadata": {},
   "source": [
    "Here are some pointers about variable names:  \n",
    "\n",
    "1) Variable names are composed of alphanumeric characters, including '-' and '\\_'.\n",
    "\n",
    "2) They are case sensitive:  'a' is not the same as 'A'.\n",
    "\n",
    "3) There are some **reserved words** in Python that have preset meanings, so using them as variables is a bad idea:\n",
    "\n",
    "|  and |  assert | break  | class  | continue  |\n",
    "|---|---|---|---|---|\n",
    "|def\t\t| del\t| \telif\t| else\t\t| except\t| \n",
    "|exec\t| \tfinally\t\t| for\t\t| from\t\t| global\t| \n",
    "|if\t\t| import\t| \tin\t\t| is\t\t| lambda\t| \n",
    "|not\t| \tor\t| \tpass\t| \tprint\t| \traise\t| \n",
    "|return\t| \ttry\t\t| while\t\t| \n",
    "\n",
    "And here are some more words that aren't reserved but clash with very basic python functions:\n",
    "\n",
    "|Data\t|Float|\tInt|Numeric\t|\n",
    "|----|-----|---- |-----|\n",
    "|array|\tclose\t|float\t|int|\tinput|\n",
    "|open|\trange|\ttype|\twrite\t|zeros|\n",
    "\n",
    "You should also avoid all the names defined in commonly used libraries like: \n",
    "\n",
    "|acos\t|asin|\tatan|cos\t|\n",
    "|----|-----|---- |-----|\n",
    "|e|\texp\t|log\t|log10|\tsin|\n",
    "|sqrt|\ttan|\tcos|\t*\t|\n",
    "\n",
    "I am guilty of setting pi = np.pi, which is a function that gives the entirety of pi's values. For me, it's easier to type pi than np.pi but it is *bad practice so do as I say not as I do*\n",
    "\n",
    "The best practice in variable naming is to use longer, more descriptive words. Again, I don't do this. I am a bad coder. Some good naming conventions are \n",
    "\n",
    "- to use '_' or '-' in the middle of things. Example: ctd_sal or merid_vel\n",
    "- to use lowercase for data \n",
    "- to use UPPERCASE for set constants \n",
    "- Be careful with special names that use leading or trailing underscores.  these are treated differently by Python and you have to know what you are doing before you use them. "
   ]
  },
  {
   "cell_type": "markdown",
   "metadata": {},
   "source": [
    "### Operations:\n",
    "\n",
    "\n",
    "|operation symbol|\tfunction\t|\n",
    "|----|-----|\n",
    "|**+**\t|adds |\n",
    "|**-** | subtracts |\n",
    "|**\\***|  multiplies|\n",
    "| **/** | divides |\n",
    "|  **%** | gives the remainder (this is called _modulo_).|\n",
    "| **\\*\\*** |raises to the power|\n",
    "|**+=** | increments |\n",
    "| **-=** | decrements |\n",
    "| ==  | tests equality |\n",
    "| != | tests inequality |\n",
    "\n",
    "\n",
    "use lots of paranthesis. More than you need. it helps organize operations. "
   ]
  },
  {
   "cell_type": "markdown",
   "metadata": {},
   "source": [
    "Let's use some basic operators to figure out how python works. "
   ]
  },
  {
   "cell_type": "code",
   "execution_count": 3,
   "metadata": {},
   "outputs": [
    {
     "data": {
      "text/plain": [
       "3"
      ]
     },
     "execution_count": 3,
     "metadata": {},
     "output_type": "execute_result"
    }
   ],
   "source": [
    "num = 1\n",
    "nummy = 2\n",
    "num_3 = 3\n",
    "\n",
    "num + num_3\n",
    "num+nummy"
   ]
  },
  {
   "cell_type": "markdown",
   "metadata": {},
   "source": [
    "If I don't assign it to a variable, the last line I code will be printed out. And the line before it is essentially lost, because I didn't assign it to variable or do anything with it, and it is overwritten by the second line of code. "
   ]
  },
  {
   "cell_type": "code",
   "execution_count": null,
   "metadata": {},
   "outputs": [],
   "source": []
  }
 ],
 "metadata": {
  "kernelspec": {
   "display_name": "Python 3",
   "language": "python",
   "name": "python3"
  },
  "language_info": {
   "codemirror_mode": {
    "name": "ipython",
    "version": 3
   },
   "file_extension": ".py",
   "mimetype": "text/x-python",
   "name": "python",
   "nbconvert_exporter": "python",
   "pygments_lexer": "ipython3",
   "version": "3.7.3"
  }
 },
 "nbformat": 4,
 "nbformat_minor": 2
}
